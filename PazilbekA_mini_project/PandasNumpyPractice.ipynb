{
 "cells": [
  {
   "cell_type": "markdown",
   "metadata": {},
   "source": [
    "\n",
    "    \n",
    "<img src=\"https://astanait.edu.kz/wp-content/uploads/2020/05/aitu-logo-3.png\" alt=\"alt text\" width=\"150\" height=\"200\" class=\"blog-image\">\n",
    "  \n",
    "\n",
    "<h1 style=\"text-align:center;\">Big Data in Law Enforcement (practice) </h1>\n",
    "\n",
    "<h1 style=\"text-align:center;\">Pandas, Numpy </h1>\n",
    "\n",
    "\n"
   ]
  },
  {
   "cell_type": "markdown",
   "metadata": {},
   "source": [
    "### Part 1: Pandas: DataFrame and Series \n",
    "\n",
    "Pandas, a widely used library in data analysis that provides pre-written code and functions to help tackle various data-related tasks. \n",
    "It offers a rich set of tools for working with structured data, making it indispensable for data scientists, analysts, and engineers across various industries.\n",
    "\n",
    "Here are some key aspects of Pandas:\n",
    "\n",
    "**Data Structures:** Pandas provides two primary data structures: DataFrame and Series. A DataFrame is a flexible two-dimensional table with labeled rows and columns, while a Series is a labeled one-dimensional array, akin to a single column or row of data.\n",
    "\n",
    "**Data Handling:** Pandas excels in managing data from diverse sources. It simplifies reading data from CSV files, Excel spreadsheets, SQL databases, and more. It also supports exporting data in these formats, enabling seamless data interchange.\n",
    "\n",
    "**Data Integration:** Pandas enables you to combine data from different sources efficiently. With functions like merge and join, like in SQL operations, you can create comprehensive datasets by merging multiple DataFrames.\n",
    "\n",
    "**Efficient Indexing:** Pandas offers efficient indexing and selection mechanisms. You can quickly access specific rows and columns of your data, which is especially helpful when dealing with large datasets.\n",
    "\n",
    "**Customization:** Pandas allows you to create custom data structures and manipulate data to suit your specific requirements. This extensibility is invaluable when you need to adapt Pandas to unique data processing tasks.\n",
    "\n",
    "In summary, Pandas is a go-to tool for managing and analyzing data in various formats, making it an essential asset for anyone involved in data-related work.\n"
   ]
  },
  {
   "cell_type": "code",
   "execution_count": 5,
   "metadata": {
    "tags": []
   },
   "outputs": [
    {
     "name": "stdout",
     "output_type": "stream",
     "text": [
      "Requirement already satisfied: pandas in c:\\users\\abatz\\anaconda3\\envs\\rp_env\\lib\\site-packages (2.1.1)\n",
      "Requirement already satisfied: numpy>=1.23.2 in c:\\users\\abatz\\anaconda3\\envs\\rp_env\\lib\\site-packages (from pandas) (1.26.0)\n",
      "Requirement already satisfied: python-dateutil>=2.8.2 in c:\\users\\abatz\\anaconda3\\envs\\rp_env\\lib\\site-packages (from pandas) (2.8.2)\n",
      "Requirement already satisfied: pytz>=2020.1 in c:\\users\\abatz\\anaconda3\\envs\\rp_env\\lib\\site-packages (from pandas) (2023.3.post1)\n",
      "Requirement already satisfied: tzdata>=2022.1 in c:\\users\\abatz\\anaconda3\\envs\\rp_env\\lib\\site-packages (from pandas) (2023.3)\n",
      "Requirement already satisfied: six>=1.5 in c:\\users\\abatz\\anaconda3\\envs\\rp_env\\lib\\site-packages (from python-dateutil>=2.8.2->pandas) (1.16.0)\n"
     ]
    }
   ],
   "source": [
    "#install Pandas\n",
    "!pip install pandas\n",
    "#import the Pandas Library\n",
    "import pandas as pd"
   ]
  },
  {
   "cell_type": "markdown",
   "metadata": {},
   "source": [
    "After the import command, we now have access to a large number of pre-built classes and functions. This assumes the library is installed;"
   ]
  },
  {
   "cell_type": "markdown",
   "metadata": {},
   "source": [
    "**Let's create a DataFrame out of a dictionary.**\n"
   ]
  },
  {
   "cell_type": "code",
   "execution_count": 4,
   "metadata": {
    "tags": []
   },
   "outputs": [
    {
     "data": {
      "text/html": [
       "<div>\n",
       "<style scoped>\n",
       "    .dataframe tbody tr th:only-of-type {\n",
       "        vertical-align: middle;\n",
       "    }\n",
       "\n",
       "    .dataframe tbody tr th {\n",
       "        vertical-align: top;\n",
       "    }\n",
       "\n",
       "    .dataframe thead th {\n",
       "        text-align: right;\n",
       "    }\n",
       "</style>\n",
       "<table border=\"1\" class=\"dataframe\">\n",
       "  <thead>\n",
       "    <tr style=\"text-align: right;\">\n",
       "      <th></th>\n",
       "      <th>ID</th>\n",
       "      <th>Name</th>\n",
       "      <th>Group</th>\n",
       "      <th>Grade</th>\n",
       "    </tr>\n",
       "  </thead>\n",
       "  <tbody>\n",
       "    <tr>\n",
       "      <th>0</th>\n",
       "      <td>1</td>\n",
       "      <td>Rose</td>\n",
       "      <td>CS_23</td>\n",
       "      <td>95</td>\n",
       "    </tr>\n",
       "    <tr>\n",
       "      <th>1</th>\n",
       "      <td>2</td>\n",
       "      <td>John</td>\n",
       "      <td>CS_25</td>\n",
       "      <td>80</td>\n",
       "    </tr>\n",
       "    <tr>\n",
       "      <th>2</th>\n",
       "      <td>3</td>\n",
       "      <td>Jane</td>\n",
       "      <td>CS_20</td>\n",
       "      <td>90</td>\n",
       "    </tr>\n",
       "    <tr>\n",
       "      <th>3</th>\n",
       "      <td>4</td>\n",
       "      <td>Mary</td>\n",
       "      <td>CS_13</td>\n",
       "      <td>75</td>\n",
       "    </tr>\n",
       "  </tbody>\n",
       "</table>\n",
       "</div>"
      ],
      "text/plain": [
       "   ID  Name  Group  Grade\n",
       "0   1  Rose  CS_23     95\n",
       "1   2  John  CS_25     80\n",
       "2   3  Jane  CS_20     90\n",
       "3   4  Mary  CS_13     75"
      ]
     },
     "execution_count": 4,
     "metadata": {},
     "output_type": "execute_result"
    }
   ],
   "source": [
    "#Define a dictionary 'students'\n",
    "\n",
    "students = {'ID': [1, 2, 3, 4], 'Name': ['Rose','John', 'Jane', 'Mary'],  'Group': ['CS_23', 'CS_25', 'CS_20', 'CS_13'], \n",
    "      'Grade':[95, 80, 90, 75]}\n",
    "\n",
    "#casting the dictionary to a DataFrame\n",
    "df = pd.DataFrame(students)\n",
    "\n",
    "#display the result df\n",
    "df"
   ]
  },
  {
   "cell_type": "markdown",
   "metadata": {},
   "source": [
    "**Column Selection**\n",
    "In order to select column you have to use two brackets, to view the column as a series, you can use just one bracket:"
   ]
  },
  {
   "cell_type": "code",
   "execution_count": 16,
   "metadata": {
    "tags": []
   },
   "outputs": [
    {
     "data": {
      "text/html": [
       "<div>\n",
       "<style scoped>\n",
       "    .dataframe tbody tr th:only-of-type {\n",
       "        vertical-align: middle;\n",
       "    }\n",
       "\n",
       "    .dataframe tbody tr th {\n",
       "        vertical-align: top;\n",
       "    }\n",
       "\n",
       "    .dataframe thead th {\n",
       "        text-align: right;\n",
       "    }\n",
       "</style>\n",
       "<table border=\"1\" class=\"dataframe\">\n",
       "  <thead>\n",
       "    <tr style=\"text-align: right;\">\n",
       "      <th></th>\n",
       "      <th>Name</th>\n",
       "    </tr>\n",
       "  </thead>\n",
       "  <tbody>\n",
       "    <tr>\n",
       "      <th>0</th>\n",
       "      <td>Rose</td>\n",
       "    </tr>\n",
       "    <tr>\n",
       "      <th>1</th>\n",
       "      <td>John</td>\n",
       "    </tr>\n",
       "    <tr>\n",
       "      <th>2</th>\n",
       "      <td>Jane</td>\n",
       "    </tr>\n",
       "    <tr>\n",
       "      <th>3</th>\n",
       "      <td>Mary</td>\n",
       "    </tr>\n",
       "  </tbody>\n",
       "</table>\n",
       "</div>"
      ],
      "text/plain": [
       "   Name\n",
       "0  Rose\n",
       "1  John\n",
       "2  Jane\n",
       "3  Mary"
      ]
     },
     "execution_count": 16,
     "metadata": {},
     "output_type": "execute_result"
    }
   ],
   "source": [
    "#Retrieving the \"Name\" column and assigning it to a variable name\n",
    "name = df[['Name']]\n",
    "name\n"
   ]
  },
  {
   "cell_type": "markdown",
   "metadata": {},
   "source": [
    "Using <code>type()</code> function you can check the type of the variable.\n"
   ]
  },
  {
   "cell_type": "code",
   "execution_count": 8,
   "metadata": {
    "tags": []
   },
   "outputs": [
    {
     "data": {
      "text/plain": [
       "pandas.core.frame.DataFrame"
      ]
     },
     "execution_count": 8,
     "metadata": {},
     "output_type": "execute_result"
    }
   ],
   "source": [
    "#check the type of Name\n",
    "type(name)"
   ]
  },
  {
   "cell_type": "markdown",
   "metadata": {},
   "source": [
    "As shown in the output the type of the variable is a DataFrame object.\n"
   ]
  },
  {
   "cell_type": "markdown",
   "metadata": {},
   "source": [
    "**Accessing to multiple columns**\n",
    "\n",
    "We can retrieve the data for <code>Id</code>, <code>Group</code> and <code>Grade</code> columns\n"
   ]
  },
  {
   "cell_type": "code",
   "execution_count": 10,
   "metadata": {
    "tags": []
   },
   "outputs": [
    {
     "data": {
      "text/html": [
       "<div>\n",
       "<style scoped>\n",
       "    .dataframe tbody tr th:only-of-type {\n",
       "        vertical-align: middle;\n",
       "    }\n",
       "\n",
       "    .dataframe tbody tr th {\n",
       "        vertical-align: top;\n",
       "    }\n",
       "\n",
       "    .dataframe thead th {\n",
       "        text-align: right;\n",
       "    }\n",
       "</style>\n",
       "<table border=\"1\" class=\"dataframe\">\n",
       "  <thead>\n",
       "    <tr style=\"text-align: right;\">\n",
       "      <th></th>\n",
       "      <th>ID</th>\n",
       "      <th>Group</th>\n",
       "      <th>Grade</th>\n",
       "    </tr>\n",
       "  </thead>\n",
       "  <tbody>\n",
       "    <tr>\n",
       "      <th>0</th>\n",
       "      <td>1</td>\n",
       "      <td>CS_23</td>\n",
       "      <td>95</td>\n",
       "    </tr>\n",
       "    <tr>\n",
       "      <th>1</th>\n",
       "      <td>2</td>\n",
       "      <td>CS_25</td>\n",
       "      <td>80</td>\n",
       "    </tr>\n",
       "    <tr>\n",
       "      <th>2</th>\n",
       "      <td>3</td>\n",
       "      <td>CS_20</td>\n",
       "      <td>90</td>\n",
       "    </tr>\n",
       "    <tr>\n",
       "      <th>3</th>\n",
       "      <td>4</td>\n",
       "      <td>CS_13</td>\n",
       "      <td>75</td>\n",
       "    </tr>\n",
       "  </tbody>\n",
       "</table>\n",
       "</div>"
      ],
      "text/plain": [
       "   ID  Group  Grade\n",
       "0   1  CS_23     95\n",
       "1   2  CS_25     80\n",
       "2   3  CS_20     90\n",
       "3   4  CS_13     75"
      ]
     },
     "execution_count": 10,
     "metadata": {},
     "output_type": "execute_result"
    }
   ],
   "source": [
    "#Retrieving data for the ID, Group and Grade columns and assigning it to a new variable x\n",
    "\n",
    "x = df[['ID','Group','Grade']]\n",
    "x"
   ]
  },
  {
   "cell_type": "markdown",
   "metadata": {},
   "source": [
    "### Practice Exercise 1: "
   ]
  },
  {
   "attachments": {
    "953c078c-7bfa-4de9-b39f-dd1a128f37f9.png": {
     "image/png": "[encoded data removed]"
    }
   },
   "cell_type": "markdown",
   "metadata": {},
   "source": [
    "##### Problem 1: Create the following dataframe using dictionary, name the dataframe ***students***:\n",
    "\n",
    "![Снимок экрана 2023-10-10 215914.png](attachment:953c078c-7bfa-4de9-b39f-dd1a128f37f9.png)"
   ]
  },
  {
   "cell_type": "code",
   "execution_count": null,
   "metadata": {},
   "outputs": [],
   "source": [
    "#write your code here\n"
   ]
  },
  {
   "cell_type": "markdown",
   "metadata": {},
   "source": [
    "##### Problem 2: Retrieve the Marks column and assign it to a variable grade\n"
   ]
  },
  {
   "cell_type": "code",
   "execution_count": null,
   "metadata": {},
   "outputs": [],
   "source": [
    "#write your code here\n"
   ]
  },
  {
   "cell_type": "markdown",
   "metadata": {},
   "source": [
    "##### Problem 3: Retrieve the Country and Course columns and assign it to a variable info\n"
   ]
  },
  {
   "cell_type": "code",
   "execution_count": null,
   "metadata": {},
   "outputs": [],
   "source": [
    "#write your code here\n"
   ]
  },
  {
   "cell_type": "markdown",
   "metadata": {},
   "source": [
    "*** "
   ]
  },
  {
   "cell_type": "markdown",
   "metadata": {},
   "source": [
    "**Using ***loc()*** and ***iloc()*** Functions**\n",
    "\n",
    "In this exercise, we'll explore the loc() and iloc() functions for data selection.\n",
    "\n",
    "**loc()** Function:\n",
    "The loc() function is a label-based data selection method, meaning that you specify the name of the row or column you want to select. It includes the last element of the range passed in it.\n",
    "\n",
    "Simple syntax:\n",
    "\n",
    " * loc[row_label, column_label]\n",
    "\n",
    "**iloc()** Function:\n",
    "The iloc() function, on the other hand, is index-based for selecting data. You provide integer indices to select specific rows or columns. Importantly, it does not include the last element of the range passed.\n",
    "\n",
    "Simple syntax:\n",
    "   \n",
    " * iloc[row_index, column_index]\n",
    "\n"
   ]
  },
  {
   "cell_type": "code",
   "execution_count": 20,
   "metadata": {
    "tags": []
   },
   "outputs": [
    {
     "data": {
      "text/plain": [
       "95"
      ]
     },
     "execution_count": 20,
     "metadata": {},
     "output_type": "execute_result"
    }
   ],
   "source": [
    "# You can access the value in column using the name\n",
    "\n",
    "df.loc[0, 'Grade']"
   ]
  },
  {
   "cell_type": "code",
   "execution_count": 21,
   "metadata": {
    "tags": []
   },
   "outputs": [
    {
     "data": {
      "text/plain": [
       "1"
      ]
     },
     "execution_count": 21,
     "metadata": {},
     "output_type": "execute_result"
    }
   ],
   "source": [
    "# To access the value on the first row and the first column you can use the following code\n",
    "\n",
    "df.iloc[0, 0]"
   ]
  },
  {
   "cell_type": "code",
   "execution_count": 18,
   "metadata": {
    "tags": []
   },
   "outputs": [
    {
     "data": {
      "text/plain": [
       "'CS_23'"
      ]
     },
     "execution_count": 18,
     "metadata": {},
     "output_type": "execute_result"
    }
   ],
   "source": [
    "# To access the value on the first row and the third column\n",
    "\n",
    "df.iloc[0,2]"
   ]
  },
  {
   "cell_type": "markdown",
   "metadata": {},
   "source": [
    "**Slicing**\n",
    "\n",
    "In pandas, you can perform data selection by slicing using the **[ ]** operator. Slicing allows you to choose a specific set of rows and/or columns from a DataFrame.\n",
    "\n",
    "To slice out a set of rows, you can use the following syntax: ***data[start:stop]***. Here, **\"start\"** represents the index from which to begin selecting, and **\"stop\"** represents the index one step beyond the row you wish to include in the selection. Slicing can be done using either index positions or column labels.\n",
    "\n",
    "It's important to note that when slicing with pandas, the \"start\" bound is inclusive in the output. For example, if you want to select rows 0, 1, and 2, your code would appear as follows: **df.iloc[0:3]**. This signifies that you are instructing Python to start at index 0 and include rows 0, 1, and 2 up to, but not including, index 3.\n",
    "\n",
    "Additionally, it's crucial to ensure that the labels you use for slicing are present in the DataFrame; otherwise, you will encounter a KeyError.\n",
    "\n",
    "It's worth highlighting that indexing by labels, which is done using the loc() function, differs from indexing by integers, which is accomplished using the iloc() function. When using loc(), both the start and stop bounds are inclusive. When using loc(), you can use integers, but these integers refer to the index labels rather than the position.\n",
    "\n",
    "For instance, selecting rows 1:4 using **loc()** will yield a different result compared to using **iloc()** to select rows 1:4. The former includes the rows with index labels 1, 2, 3, and 4, while the latter includes only rows 1, 2, and 3."
   ]
  },
  {
   "cell_type": "code",
   "execution_count": 25,
   "metadata": {
    "tags": []
   },
   "outputs": [
    {
     "data": {
      "text/html": [
       "<div>\n",
       "<style scoped>\n",
       "    .dataframe tbody tr th:only-of-type {\n",
       "        vertical-align: middle;\n",
       "    }\n",
       "\n",
       "    .dataframe tbody tr th {\n",
       "        vertical-align: top;\n",
       "    }\n",
       "\n",
       "    .dataframe thead th {\n",
       "        text-align: right;\n",
       "    }\n",
       "</style>\n",
       "<table border=\"1\" class=\"dataframe\">\n",
       "  <thead>\n",
       "    <tr style=\"text-align: right;\">\n",
       "      <th></th>\n",
       "      <th>ID</th>\n",
       "      <th>Name</th>\n",
       "    </tr>\n",
       "  </thead>\n",
       "  <tbody>\n",
       "    <tr>\n",
       "      <th>0</th>\n",
       "      <td>1</td>\n",
       "      <td>Rose</td>\n",
       "    </tr>\n",
       "    <tr>\n",
       "      <th>1</th>\n",
       "      <td>2</td>\n",
       "      <td>John</td>\n",
       "    </tr>\n",
       "  </tbody>\n",
       "</table>\n",
       "</div>"
      ],
      "text/plain": [
       "   ID  Name\n",
       "0   1  Rose\n",
       "1   2  John"
      ]
     },
     "execution_count": 25,
     "metadata": {},
     "output_type": "execute_result"
    }
   ],
   "source": [
    "# let us do the slicing using old dataframe df\n",
    "\n",
    "df.iloc[0:2, 0:2]"
   ]
  },
  {
   "cell_type": "code",
   "execution_count": 29,
   "metadata": {
    "tags": []
   },
   "outputs": [
    {
     "data": {
      "text/html": [
       "<div>\n",
       "<style scoped>\n",
       "    .dataframe tbody tr th:only-of-type {\n",
       "        vertical-align: middle;\n",
       "    }\n",
       "\n",
       "    .dataframe tbody tr th {\n",
       "        vertical-align: top;\n",
       "    }\n",
       "\n",
       "    .dataframe thead th {\n",
       "        text-align: right;\n",
       "    }\n",
       "</style>\n",
       "<table border=\"1\" class=\"dataframe\">\n",
       "  <thead>\n",
       "    <tr style=\"text-align: right;\">\n",
       "      <th></th>\n",
       "      <th>ID</th>\n",
       "      <th>Name</th>\n",
       "      <th>Group</th>\n",
       "    </tr>\n",
       "  </thead>\n",
       "  <tbody>\n",
       "    <tr>\n",
       "      <th>0</th>\n",
       "      <td>1</td>\n",
       "      <td>Rose</td>\n",
       "      <td>CS_23</td>\n",
       "    </tr>\n",
       "    <tr>\n",
       "      <th>1</th>\n",
       "      <td>2</td>\n",
       "      <td>John</td>\n",
       "      <td>CS_25</td>\n",
       "    </tr>\n",
       "  </tbody>\n",
       "</table>\n",
       "</div>"
      ],
      "text/plain": [
       "   ID  Name  Group\n",
       "0   1  Rose  CS_23\n",
       "1   2  John  CS_25"
      ]
     },
     "execution_count": 29,
     "metadata": {},
     "output_type": "execute_result"
    }
   ],
   "source": [
    "#let us do the slicing using loc() function on old dataframe df where index column is having labels as 0,1,2\n",
    "df.loc[0:1,'ID':'Group']"
   ]
  },
  {
   "cell_type": "markdown",
   "metadata": {},
   "source": [
    "### Practice Exercise 2: \n"
   ]
  },
  {
   "cell_type": "markdown",
   "metadata": {},
   "source": [
    "Use the <code>loc()</code> function,to get the Age of Jane in created by you in previous exercise dataframe called ***students***.\n"
   ]
  },
  {
   "cell_type": "code",
   "execution_count": null,
   "metadata": {},
   "outputs": [],
   "source": [
    "#write your code here\n"
   ]
  },
  {
   "cell_type": "markdown",
   "metadata": {},
   "source": [
    "Use the <code>iloc()</code> function to get the Course of Rick in created by you in previous exercise dataframe called ***students***.\n"
   ]
  },
  {
   "cell_type": "code",
   "execution_count": null,
   "metadata": {},
   "outputs": [],
   "source": [
    "#write your code here\n"
   ]
  },
  {
   "cell_type": "markdown",
   "metadata": {},
   "source": [
    "using <code>loc()</code> function, do slicing on newly created dataframe by you called **students** to retrieve the Student, Age and country of index column,  having  2 and 3 rows\n",
    "\n"
   ]
  },
  {
   "cell_type": "code",
   "execution_count": null,
   "metadata": {},
   "outputs": [],
   "source": [
    "# Write your code below and press Shift+Enter to execute\n"
   ]
  },
  {
   "cell_type": "markdown",
   "metadata": {},
   "source": [
    "***"
   ]
  },
  {
   "cell_type": "markdown",
   "metadata": {},
   "source": [
    "### Part 2: Importing data with Pandas"
   ]
  },
  {
   "cell_type": "markdown",
   "metadata": {},
   "source": [
    "Pandas provides a convenient way to handle and manipulate data through the use of data frames. Here, we'll walk through the steps involved in converting data from a CSV file into a data frame."
   ]
  },
  {
   "cell_type": "code",
   "execution_count": 1,
   "metadata": {
    "tags": []
   },
   "outputs": [
    {
     "name": "stdout",
     "output_type": "stream",
     "text": [
      "Collecting xlrd\n",
      "  Using cached xlrd-2.0.1-py2.py3-none-any.whl (96 kB)\n",
      "Installing collected packages: xlrd\n",
      "Successfully installed xlrd-2.0.1\n",
      "Collecting openpyxl\n",
      "  Downloading openpyxl-3.1.2-py2.py3-none-any.whl (249 kB)\n",
      "     ---------------------------------------- 0.0/250.0 kB ? eta -:--:--\n",
      "     - -------------------------------------- 10.2/250.0 kB ? eta -:--:--\n",
      "     ---- -------------------------------- 30.7/250.0 kB 330.3 kB/s eta 0:00:01\n",
      "     --------- --------------------------- 61.4/250.0 kB 365.7 kB/s eta 0:00:01\n",
      "     ---------------- ------------------- 112.6/250.0 kB 595.3 kB/s eta 0:00:01\n",
      "     ------------------------- ---------- 174.1/250.0 kB 748.1 kB/s eta 0:00:01\n",
      "     -----------------------------------  245.8/250.0 kB 888.8 kB/s eta 0:00:01\n",
      "     ------------------------------------ 250.0/250.0 kB 853.2 kB/s eta 0:00:00\n",
      "Collecting et-xmlfile (from openpyxl)\n",
      "  Downloading et_xmlfile-1.1.0-py3-none-any.whl (4.7 kB)\n",
      "Installing collected packages: et-xmlfile, openpyxl\n",
      "Successfully installed et-xmlfile-1.1.0 openpyxl-3.1.2\n"
     ]
    }
   ],
   "source": [
    "# Dependency needed to install file \n",
    "\n",
    "!pip install xlrd\n",
    "\n",
    "!pip install openpyxl "
   ]
  },
  {
   "cell_type": "markdown",
   "metadata": {},
   "source": [
    "We going to import **Law enforcement surveillance technologies** dataset that contains information about which US law enforcement agencies using surveillance technologies.   More information about data you can find here https://data.world/publicsafety/law-enforcement-surveillance-technologies\n",
    "The variable **csv_path** stores the path of the location **.csv** file, that is  used as an argument to the **read_csv** function. The output is stored in the new created object **df**, this is a common short name used for a variable referring to a Pandas dataframe.\n"
   ]
  },
  {
   "cell_type": "code",
   "execution_count": 9,
   "metadata": {
    "tags": []
   },
   "outputs": [],
   "source": [
    "# Import and Read data from CSV file\n",
    "\n",
    "csv_path = 'C:/Users/abatz/Desktop/BigDataInLaw/week2/Atlas of Surveillance-20200813                                                                                                                                                                                                                                                                                                                                                                                                                                                                                                                                                                                                                                                                                '\n",
    "df = pd.read_csv(csv_path)"
   ]
  },
  {
   "cell_type": "markdown",
   "metadata": {},
   "source": [
    "To inspect the initial five rows of a dataframe, you can utilize the head() method."
   ]
  },
  {
   "cell_type": "code",
   "execution_count": 8,
   "metadata": {
    "tags": []
   },
   "outputs": [
    {
     "data": {
      "text/html": [
       "<div>\n",
       "<style scoped>\n",
       "    .dataframe tbody tr th:only-of-type {\n",
       "        vertical-align: middle;\n",
       "    }\n",
       "\n",
       "    .dataframe tbody tr th {\n",
       "        vertical-align: top;\n",
       "    }\n",
       "\n",
       "    .dataframe thead th {\n",
       "        text-align: right;\n",
       "    }\n",
       "</style>\n",
       "<table border=\"1\" class=\"dataframe\">\n",
       "  <thead>\n",
       "    <tr style=\"text-align: right;\">\n",
       "      <th></th>\n",
       "      <th>AOSNUMBER</th>\n",
       "      <th>City</th>\n",
       "      <th>County</th>\n",
       "      <th>State</th>\n",
       "      <th>Agency</th>\n",
       "      <th>Type of LEA</th>\n",
       "      <th>Summary</th>\n",
       "      <th>Type of Juris</th>\n",
       "      <th>Technology</th>\n",
       "      <th>Vendor</th>\n",
       "      <th>...</th>\n",
       "      <th>Link 1 Type</th>\n",
       "      <th>Link 1 Date</th>\n",
       "      <th>Link 2</th>\n",
       "      <th>Link 2 Source</th>\n",
       "      <th>Link 2 Type</th>\n",
       "      <th>Link 2 Date</th>\n",
       "      <th>Link 3</th>\n",
       "      <th>Link 3 Source</th>\n",
       "      <th>Link 3 Type</th>\n",
       "      <th>Link 3 Date</th>\n",
       "    </tr>\n",
       "  </thead>\n",
       "  <tbody>\n",
       "    <tr>\n",
       "      <th>0</th>\n",
       "      <td>AOS0001</td>\n",
       "      <td>Woodstock</td>\n",
       "      <td>Shenandoah County</td>\n",
       "      <td>VA</td>\n",
       "      <td>Woodstock Police Department</td>\n",
       "      <td>Police</td>\n",
       "      <td>The Woodstock Police Department has used body-...</td>\n",
       "      <td>Municipal</td>\n",
       "      <td>Body-worn Cameras</td>\n",
       "      <td>VML Insurance Programs</td>\n",
       "      <td>...</td>\n",
       "      <td>NaN</td>\n",
       "      <td>12/27/2012</td>\n",
       "      <td>NaN</td>\n",
       "      <td>NaN</td>\n",
       "      <td>NaN</td>\n",
       "      <td>NaN</td>\n",
       "      <td>NaN</td>\n",
       "      <td>NaN</td>\n",
       "      <td>NaN</td>\n",
       "      <td>NaN</td>\n",
       "    </tr>\n",
       "    <tr>\n",
       "      <th>1</th>\n",
       "      <td>AOS0002</td>\n",
       "      <td>Rockford</td>\n",
       "      <td>Ogle County, Winnebago County</td>\n",
       "      <td>IL</td>\n",
       "      <td>Rockford Police Department</td>\n",
       "      <td>Police</td>\n",
       "      <td>The Rockford Police Department spent $310,000 ...</td>\n",
       "      <td>Municipal</td>\n",
       "      <td>Gunshot Detection</td>\n",
       "      <td>ShotSpotter</td>\n",
       "      <td>...</td>\n",
       "      <td>NaN</td>\n",
       "      <td>10/06/2018</td>\n",
       "      <td>NaN</td>\n",
       "      <td>NaN</td>\n",
       "      <td>NaN</td>\n",
       "      <td>NaN</td>\n",
       "      <td>NaN</td>\n",
       "      <td>NaN</td>\n",
       "      <td>NaN</td>\n",
       "      <td>NaN</td>\n",
       "    </tr>\n",
       "    <tr>\n",
       "      <th>2</th>\n",
       "      <td>AOS0003</td>\n",
       "      <td>Atlanta</td>\n",
       "      <td>DeKalb County, Fulton County</td>\n",
       "      <td>GA</td>\n",
       "      <td>Atlanta Police Department</td>\n",
       "      <td>Police</td>\n",
       "      <td>The Atlanta Police Department began using Shot...</td>\n",
       "      <td>Municipal</td>\n",
       "      <td>Gunshot Detection</td>\n",
       "      <td>ShotSpotter</td>\n",
       "      <td>...</td>\n",
       "      <td>NaN</td>\n",
       "      <td>11/16/2018</td>\n",
       "      <td>https://www.atlantapd.org/Home/ShowDocument?id...</td>\n",
       "      <td>Atlanta Police Department</td>\n",
       "      <td>NaN</td>\n",
       "      <td>09/15/2018</td>\n",
       "      <td>NaN</td>\n",
       "      <td>NaN</td>\n",
       "      <td>NaN</td>\n",
       "      <td>NaN</td>\n",
       "    </tr>\n",
       "    <tr>\n",
       "      <th>3</th>\n",
       "      <td>AOS0004</td>\n",
       "      <td>Peoria</td>\n",
       "      <td>Peoria County</td>\n",
       "      <td>IL</td>\n",
       "      <td>Peoria Police Department</td>\n",
       "      <td>Police</td>\n",
       "      <td>The Peoria Police Department began using ShotS...</td>\n",
       "      <td>Municipal</td>\n",
       "      <td>Gunshot Detection</td>\n",
       "      <td>ShotSpotter</td>\n",
       "      <td>...</td>\n",
       "      <td>NaN</td>\n",
       "      <td>12/13/2019</td>\n",
       "      <td>https://www.shotspotter.com/news/peoria-police...</td>\n",
       "      <td>Shotspotter</td>\n",
       "      <td>NaN</td>\n",
       "      <td>03/01/2015</td>\n",
       "      <td>https://web.archive.org/web/20150317034225/htt...</td>\n",
       "      <td>Associated Press</td>\n",
       "      <td>NaN</td>\n",
       "      <td>03/01/2015</td>\n",
       "    </tr>\n",
       "    <tr>\n",
       "      <th>4</th>\n",
       "      <td>AOS0005</td>\n",
       "      <td>Goldsboro</td>\n",
       "      <td>Wayne County</td>\n",
       "      <td>NC</td>\n",
       "      <td>Goldsboro Police Department</td>\n",
       "      <td>Police</td>\n",
       "      <td>The Goldsboro Police Department uses ShotSpott...</td>\n",
       "      <td>Municipal</td>\n",
       "      <td>Gunshot Detection</td>\n",
       "      <td>ShotSpotter</td>\n",
       "      <td>...</td>\n",
       "      <td>NaN</td>\n",
       "      <td>10/23/2017</td>\n",
       "      <td>https://www.facebook.com/goldsborodailynews/po...</td>\n",
       "      <td>Goldsboro Police Department Facebook Page</td>\n",
       "      <td>NaN</td>\n",
       "      <td>4/27/2020</td>\n",
       "      <td>NaN</td>\n",
       "      <td>NaN</td>\n",
       "      <td>NaN</td>\n",
       "      <td>NaN</td>\n",
       "    </tr>\n",
       "  </tbody>\n",
       "</table>\n",
       "<p>5 rows × 22 columns</p>\n",
       "</div>"
      ],
      "text/plain": [
       "  AOSNUMBER       City                         County State  \\\n",
       "0   AOS0001  Woodstock              Shenandoah County    VA   \n",
       "1   AOS0002   Rockford  Ogle County, Winnebago County    IL   \n",
       "2   AOS0003    Atlanta   DeKalb County, Fulton County    GA   \n",
       "3   AOS0004     Peoria                  Peoria County    IL   \n",
       "4   AOS0005  Goldsboro                   Wayne County    NC   \n",
       "\n",
       "                        Agency Type of LEA  \\\n",
       "0  Woodstock Police Department      Police   \n",
       "1   Rockford Police Department      Police   \n",
       "2    Atlanta Police Department      Police   \n",
       "3     Peoria Police Department      Police   \n",
       "4  Goldsboro Police Department      Police   \n",
       "\n",
       "                                             Summary Type of Juris  \\\n",
       "0  The Woodstock Police Department has used body-...     Municipal   \n",
       "1  The Rockford Police Department spent $310,000 ...     Municipal   \n",
       "2  The Atlanta Police Department began using Shot...     Municipal   \n",
       "3  The Peoria Police Department began using ShotS...     Municipal   \n",
       "4  The Goldsboro Police Department uses ShotSpott...     Municipal   \n",
       "\n",
       "          Technology                  Vendor  ... Link 1 Type Link 1 Date  \\\n",
       "0  Body-worn Cameras  VML Insurance Programs  ...         NaN  12/27/2012   \n",
       "1  Gunshot Detection             ShotSpotter  ...         NaN  10/06/2018   \n",
       "2  Gunshot Detection             ShotSpotter  ...         NaN  11/16/2018   \n",
       "3  Gunshot Detection             ShotSpotter  ...         NaN  12/13/2019   \n",
       "4  Gunshot Detection             ShotSpotter  ...         NaN  10/23/2017   \n",
       "\n",
       "                                              Link 2  \\\n",
       "0                                                NaN   \n",
       "1                                                NaN   \n",
       "2  https://www.atlantapd.org/Home/ShowDocument?id...   \n",
       "3  https://www.shotspotter.com/news/peoria-police...   \n",
       "4  https://www.facebook.com/goldsborodailynews/po...   \n",
       "\n",
       "                               Link 2 Source Link 2 Type Link 2 Date  \\\n",
       "0                                        NaN         NaN         NaN   \n",
       "1                                        NaN         NaN         NaN   \n",
       "2                  Atlanta Police Department         NaN  09/15/2018   \n",
       "3                                Shotspotter         NaN  03/01/2015   \n",
       "4  Goldsboro Police Department Facebook Page         NaN   4/27/2020   \n",
       "\n",
       "                                              Link 3     Link 3 Source  \\\n",
       "0                                                NaN               NaN   \n",
       "1                                                NaN               NaN   \n",
       "2                                                NaN               NaN   \n",
       "3  https://web.archive.org/web/20150317034225/htt...  Associated Press   \n",
       "4                                                NaN               NaN   \n",
       "\n",
       "  Link 3 Type Link 3 Date  \n",
       "0         NaN         NaN  \n",
       "1         NaN         NaN  \n",
       "2         NaN         NaN  \n",
       "3         NaN  03/01/2015  \n",
       "4         NaN         NaN  \n",
       "\n",
       "[5 rows x 22 columns]"
      ]
     },
     "execution_count": 8,
     "metadata": {},
     "output_type": "execute_result"
    }
   ],
   "source": [
    "df.head()"
   ]
  },
  {
   "cell_type": "markdown",
   "metadata": {},
   "source": [
    "Also we can import dataset directly from data.world using url of dataset "
   ]
  },
  {
   "cell_type": "code",
   "execution_count": 12,
   "metadata": {
    "tags": []
   },
   "outputs": [
    {
     "data": {
      "text/html": [
       "<div>\n",
       "<style scoped>\n",
       "    .dataframe tbody tr th:only-of-type {\n",
       "        vertical-align: middle;\n",
       "    }\n",
       "\n",
       "    .dataframe tbody tr th {\n",
       "        vertical-align: top;\n",
       "    }\n",
       "\n",
       "    .dataframe thead th {\n",
       "        text-align: right;\n",
       "    }\n",
       "</style>\n",
       "<table border=\"1\" class=\"dataframe\">\n",
       "  <thead>\n",
       "    <tr style=\"text-align: right;\">\n",
       "      <th></th>\n",
       "      <th>AOSNUMBER</th>\n",
       "      <th>City</th>\n",
       "      <th>County</th>\n",
       "      <th>State</th>\n",
       "      <th>Agency</th>\n",
       "      <th>Type of LEA</th>\n",
       "      <th>Summary</th>\n",
       "      <th>Type of Juris</th>\n",
       "      <th>Technology</th>\n",
       "      <th>Vendor</th>\n",
       "      <th>...</th>\n",
       "      <th>Link 1 Type</th>\n",
       "      <th>Link 1 Date</th>\n",
       "      <th>Link 2</th>\n",
       "      <th>Link 2 Source</th>\n",
       "      <th>Link 2 Type</th>\n",
       "      <th>Link 2 Date</th>\n",
       "      <th>Link 3</th>\n",
       "      <th>Link 3 Source</th>\n",
       "      <th>Link 3 Type</th>\n",
       "      <th>Link 3 Date</th>\n",
       "    </tr>\n",
       "  </thead>\n",
       "  <tbody>\n",
       "    <tr>\n",
       "      <th>0</th>\n",
       "      <td>AOS0001</td>\n",
       "      <td>Woodstock</td>\n",
       "      <td>Shenandoah County</td>\n",
       "      <td>VA</td>\n",
       "      <td>Woodstock Police Department</td>\n",
       "      <td>Police</td>\n",
       "      <td>The Woodstock Police Department has used body-...</td>\n",
       "      <td>Municipal</td>\n",
       "      <td>Body-worn Cameras</td>\n",
       "      <td>VML Insurance Programs</td>\n",
       "      <td>...</td>\n",
       "      <td>NaN</td>\n",
       "      <td>12/27/2012</td>\n",
       "      <td>NaN</td>\n",
       "      <td>NaN</td>\n",
       "      <td>NaN</td>\n",
       "      <td>NaN</td>\n",
       "      <td>NaN</td>\n",
       "      <td>NaN</td>\n",
       "      <td>NaN</td>\n",
       "      <td>NaN</td>\n",
       "    </tr>\n",
       "    <tr>\n",
       "      <th>1</th>\n",
       "      <td>AOS0002</td>\n",
       "      <td>Rockford</td>\n",
       "      <td>Ogle County, Winnebago County</td>\n",
       "      <td>IL</td>\n",
       "      <td>Rockford Police Department</td>\n",
       "      <td>Police</td>\n",
       "      <td>The Rockford Police Department spent $310,000 ...</td>\n",
       "      <td>Municipal</td>\n",
       "      <td>Gunshot Detection</td>\n",
       "      <td>ShotSpotter</td>\n",
       "      <td>...</td>\n",
       "      <td>NaN</td>\n",
       "      <td>10/06/2018</td>\n",
       "      <td>NaN</td>\n",
       "      <td>NaN</td>\n",
       "      <td>NaN</td>\n",
       "      <td>NaN</td>\n",
       "      <td>NaN</td>\n",
       "      <td>NaN</td>\n",
       "      <td>NaN</td>\n",
       "      <td>NaN</td>\n",
       "    </tr>\n",
       "    <tr>\n",
       "      <th>2</th>\n",
       "      <td>AOS0003</td>\n",
       "      <td>Atlanta</td>\n",
       "      <td>DeKalb County, Fulton County</td>\n",
       "      <td>GA</td>\n",
       "      <td>Atlanta Police Department</td>\n",
       "      <td>Police</td>\n",
       "      <td>The Atlanta Police Department began using Shot...</td>\n",
       "      <td>Municipal</td>\n",
       "      <td>Gunshot Detection</td>\n",
       "      <td>ShotSpotter</td>\n",
       "      <td>...</td>\n",
       "      <td>NaN</td>\n",
       "      <td>11/16/2018</td>\n",
       "      <td>https://www.atlantapd.org/Home/ShowDocument?id...</td>\n",
       "      <td>Atlanta Police Department</td>\n",
       "      <td>NaN</td>\n",
       "      <td>09/15/2018</td>\n",
       "      <td>NaN</td>\n",
       "      <td>NaN</td>\n",
       "      <td>NaN</td>\n",
       "      <td>NaN</td>\n",
       "    </tr>\n",
       "    <tr>\n",
       "      <th>3</th>\n",
       "      <td>AOS0004</td>\n",
       "      <td>Peoria</td>\n",
       "      <td>Peoria County</td>\n",
       "      <td>IL</td>\n",
       "      <td>Peoria Police Department</td>\n",
       "      <td>Police</td>\n",
       "      <td>The Peoria Police Department began using ShotS...</td>\n",
       "      <td>Municipal</td>\n",
       "      <td>Gunshot Detection</td>\n",
       "      <td>ShotSpotter</td>\n",
       "      <td>...</td>\n",
       "      <td>NaN</td>\n",
       "      <td>12/13/2019</td>\n",
       "      <td>https://www.shotspotter.com/news/peoria-police...</td>\n",
       "      <td>Shotspotter</td>\n",
       "      <td>NaN</td>\n",
       "      <td>03/01/2015</td>\n",
       "      <td>https://web.archive.org/web/20150317034225/htt...</td>\n",
       "      <td>Associated Press</td>\n",
       "      <td>NaN</td>\n",
       "      <td>03/01/2015</td>\n",
       "    </tr>\n",
       "    <tr>\n",
       "      <th>4</th>\n",
       "      <td>AOS0005</td>\n",
       "      <td>Goldsboro</td>\n",
       "      <td>Wayne County</td>\n",
       "      <td>NC</td>\n",
       "      <td>Goldsboro Police Department</td>\n",
       "      <td>Police</td>\n",
       "      <td>The Goldsboro Police Department uses ShotSpott...</td>\n",
       "      <td>Municipal</td>\n",
       "      <td>Gunshot Detection</td>\n",
       "      <td>ShotSpotter</td>\n",
       "      <td>...</td>\n",
       "      <td>NaN</td>\n",
       "      <td>10/23/2017</td>\n",
       "      <td>https://www.facebook.com/goldsborodailynews/po...</td>\n",
       "      <td>Goldsboro Police Department Facebook Page</td>\n",
       "      <td>NaN</td>\n",
       "      <td>4/27/2020</td>\n",
       "      <td>NaN</td>\n",
       "      <td>NaN</td>\n",
       "      <td>NaN</td>\n",
       "      <td>NaN</td>\n",
       "    </tr>\n",
       "  </tbody>\n",
       "</table>\n",
       "<p>5 rows × 22 columns</p>\n",
       "</div>"
      ],
      "text/plain": [
       "  AOSNUMBER       City                         County State  \\\n",
       "0   AOS0001  Woodstock              Shenandoah County    VA   \n",
       "1   AOS0002   Rockford  Ogle County, Winnebago County    IL   \n",
       "2   AOS0003    Atlanta   DeKalb County, Fulton County    GA   \n",
       "3   AOS0004     Peoria                  Peoria County    IL   \n",
       "4   AOS0005  Goldsboro                   Wayne County    NC   \n",
       "\n",
       "                        Agency Type of LEA  \\\n",
       "0  Woodstock Police Department      Police   \n",
       "1   Rockford Police Department      Police   \n",
       "2    Atlanta Police Department      Police   \n",
       "3     Peoria Police Department      Police   \n",
       "4  Goldsboro Police Department      Police   \n",
       "\n",
       "                                             Summary Type of Juris  \\\n",
       "0  The Woodstock Police Department has used body-...     Municipal   \n",
       "1  The Rockford Police Department spent $310,000 ...     Municipal   \n",
       "2  The Atlanta Police Department began using Shot...     Municipal   \n",
       "3  The Peoria Police Department began using ShotS...     Municipal   \n",
       "4  The Goldsboro Police Department uses ShotSpott...     Municipal   \n",
       "\n",
       "          Technology                  Vendor  ... Link 1 Type Link 1 Date  \\\n",
       "0  Body-worn Cameras  VML Insurance Programs  ...         NaN  12/27/2012   \n",
       "1  Gunshot Detection             ShotSpotter  ...         NaN  10/06/2018   \n",
       "2  Gunshot Detection             ShotSpotter  ...         NaN  11/16/2018   \n",
       "3  Gunshot Detection             ShotSpotter  ...         NaN  12/13/2019   \n",
       "4  Gunshot Detection             ShotSpotter  ...         NaN  10/23/2017   \n",
       "\n",
       "                                              Link 2  \\\n",
       "0                                                NaN   \n",
       "1                                                NaN   \n",
       "2  https://www.atlantapd.org/Home/ShowDocument?id...   \n",
       "3  https://www.shotspotter.com/news/peoria-police...   \n",
       "4  https://www.facebook.com/goldsborodailynews/po...   \n",
       "\n",
       "                               Link 2 Source Link 2 Type Link 2 Date  \\\n",
       "0                                        NaN         NaN         NaN   \n",
       "1                                        NaN         NaN         NaN   \n",
       "2                  Atlanta Police Department         NaN  09/15/2018   \n",
       "3                                Shotspotter         NaN  03/01/2015   \n",
       "4  Goldsboro Police Department Facebook Page         NaN   4/27/2020   \n",
       "\n",
       "                                              Link 3     Link 3 Source  \\\n",
       "0                                                NaN               NaN   \n",
       "1                                                NaN               NaN   \n",
       "2                                                NaN               NaN   \n",
       "3  https://web.archive.org/web/20150317034225/htt...  Associated Press   \n",
       "4                                                NaN               NaN   \n",
       "\n",
       "  Link 3 Type Link 3 Date  \n",
       "0         NaN         NaN  \n",
       "1         NaN         NaN  \n",
       "2         NaN         NaN  \n",
       "3         NaN  03/01/2015  \n",
       "4         NaN         NaN  \n",
       "\n",
       "[5 rows x 22 columns]"
      ]
     },
     "execution_count": 12,
     "metadata": {},
     "output_type": "execute_result"
    }
   ],
   "source": [
    "df2 = pd.read_csv('https://query.data.world/s/nx3t7onwwhapqyj7sibky3gnexutup?dws=00000')\n",
    "df2.head()"
   ]
  },
  {
   "cell_type": "markdown",
   "metadata": {},
   "source": [
    "In order to read excel file, we can use **read_excel** function. We are going to read **Gun Deaths in US from 1999 to 2019** dataset. "
   ]
  },
  {
   "cell_type": "code",
   "execution_count": 18,
   "metadata": {
    "tags": []
   },
   "outputs": [
    {
     "data": {
      "text/html": [
       "<div>\n",
       "<style scoped>\n",
       "    .dataframe tbody tr th:only-of-type {\n",
       "        vertical-align: middle;\n",
       "    }\n",
       "\n",
       "    .dataframe tbody tr th {\n",
       "        vertical-align: top;\n",
       "    }\n",
       "\n",
       "    .dataframe thead th {\n",
       "        text-align: right;\n",
       "    }\n",
       "</style>\n",
       "<table border=\"1\" class=\"dataframe\">\n",
       "  <thead>\n",
       "    <tr style=\"text-align: right;\">\n",
       "      <th></th>\n",
       "      <th>Unnamed: 0</th>\n",
       "      <th>Year</th>\n",
       "      <th>County</th>\n",
       "      <th>County Code</th>\n",
       "      <th>State</th>\n",
       "      <th>State_Name</th>\n",
       "      <th>State Code</th>\n",
       "      <th>Deaths</th>\n",
       "      <th>Population</th>\n",
       "      <th>Crude Rate</th>\n",
       "      <th>Crude Rate Lower 95% Confidence Interval</th>\n",
       "      <th>Crude Rate Upper 95% Confidence Interval</th>\n",
       "      <th>Age Adjusted Rate</th>\n",
       "      <th>Age Adjusted Rate Lower 95% Confidence Interval</th>\n",
       "      <th>Age Adjusted Rate Upper 95% Confidence Interval</th>\n",
       "    </tr>\n",
       "  </thead>\n",
       "  <tbody>\n",
       "    <tr>\n",
       "      <th>0</th>\n",
       "      <td>0</td>\n",
       "      <td>1999</td>\n",
       "      <td>Baldwin County</td>\n",
       "      <td>1003</td>\n",
       "      <td>AL</td>\n",
       "      <td>Alabama</td>\n",
       "      <td>1</td>\n",
       "      <td>22</td>\n",
       "      <td>137555</td>\n",
       "      <td>15.99</td>\n",
       "      <td>10.02</td>\n",
       "      <td>24.21</td>\n",
       "      <td>16.28</td>\n",
       "      <td>10.20</td>\n",
       "      <td>24.64</td>\n",
       "    </tr>\n",
       "    <tr>\n",
       "      <th>1</th>\n",
       "      <td>1</td>\n",
       "      <td>1999</td>\n",
       "      <td>Calhoun County</td>\n",
       "      <td>1015</td>\n",
       "      <td>AL</td>\n",
       "      <td>Alabama</td>\n",
       "      <td>1</td>\n",
       "      <td>29</td>\n",
       "      <td>114910</td>\n",
       "      <td>25.24</td>\n",
       "      <td>16.90</td>\n",
       "      <td>36.24</td>\n",
       "      <td>25.21</td>\n",
       "      <td>16.89</td>\n",
       "      <td>36.21</td>\n",
       "    </tr>\n",
       "    <tr>\n",
       "      <th>2</th>\n",
       "      <td>2</td>\n",
       "      <td>1999</td>\n",
       "      <td>Chambers County</td>\n",
       "      <td>1017</td>\n",
       "      <td>AL</td>\n",
       "      <td>Alabama</td>\n",
       "      <td>1</td>\n",
       "      <td>10</td>\n",
       "      <td>36527</td>\n",
       "      <td>NaN</td>\n",
       "      <td>13.13</td>\n",
       "      <td>50.35</td>\n",
       "      <td>NaN</td>\n",
       "      <td>12.91</td>\n",
       "      <td>49.51</td>\n",
       "    </tr>\n",
       "    <tr>\n",
       "      <th>3</th>\n",
       "      <td>3</td>\n",
       "      <td>1999</td>\n",
       "      <td>Colbert County</td>\n",
       "      <td>1033</td>\n",
       "      <td>AL</td>\n",
       "      <td>Alabama</td>\n",
       "      <td>1</td>\n",
       "      <td>14</td>\n",
       "      <td>54715</td>\n",
       "      <td>NaN</td>\n",
       "      <td>13.99</td>\n",
       "      <td>42.93</td>\n",
       "      <td>NaN</td>\n",
       "      <td>13.54</td>\n",
       "      <td>41.57</td>\n",
       "    </tr>\n",
       "    <tr>\n",
       "      <th>4</th>\n",
       "      <td>4</td>\n",
       "      <td>1999</td>\n",
       "      <td>Dallas County</td>\n",
       "      <td>1047</td>\n",
       "      <td>AL</td>\n",
       "      <td>Alabama</td>\n",
       "      <td>1</td>\n",
       "      <td>11</td>\n",
       "      <td>46722</td>\n",
       "      <td>NaN</td>\n",
       "      <td>11.75</td>\n",
       "      <td>42.13</td>\n",
       "      <td>NaN</td>\n",
       "      <td>12.15</td>\n",
       "      <td>43.54</td>\n",
       "    </tr>\n",
       "  </tbody>\n",
       "</table>\n",
       "</div>"
      ],
      "text/plain": [
       "   Unnamed: 0  Year           County  County Code State State_Name  \\\n",
       "0           0  1999   Baldwin County         1003    AL    Alabama   \n",
       "1           1  1999   Calhoun County         1015    AL    Alabama   \n",
       "2           2  1999  Chambers County         1017    AL    Alabama   \n",
       "3           3  1999   Colbert County         1033    AL    Alabama   \n",
       "4           4  1999    Dallas County         1047    AL    Alabama   \n",
       "\n",
       "   State Code  Deaths  Population  Crude Rate  \\\n",
       "0           1      22      137555       15.99   \n",
       "1           1      29      114910       25.24   \n",
       "2           1      10       36527         NaN   \n",
       "3           1      14       54715         NaN   \n",
       "4           1      11       46722         NaN   \n",
       "\n",
       "   Crude Rate Lower 95% Confidence Interval  \\\n",
       "0                                     10.02   \n",
       "1                                     16.90   \n",
       "2                                     13.13   \n",
       "3                                     13.99   \n",
       "4                                     11.75   \n",
       "\n",
       "   Crude Rate Upper 95% Confidence Interval  Age Adjusted Rate  \\\n",
       "0                                     24.21              16.28   \n",
       "1                                     36.24              25.21   \n",
       "2                                     50.35                NaN   \n",
       "3                                     42.93                NaN   \n",
       "4                                     42.13                NaN   \n",
       "\n",
       "   Age Adjusted Rate Lower 95% Confidence Interval  \\\n",
       "0                                            10.20   \n",
       "1                                            16.89   \n",
       "2                                            12.91   \n",
       "3                                            13.54   \n",
       "4                                            12.15   \n",
       "\n",
       "   Age Adjusted Rate Upper 95% Confidence Interval  \n",
       "0                                            24.64  \n",
       "1                                            36.21  \n",
       "2                                            49.51  \n",
       "3                                            41.57  \n",
       "4                                            43.54  "
      ]
     },
     "execution_count": 18,
     "metadata": {},
     "output_type": "execute_result"
    }
   ],
   "source": [
    "xlsx_path = \"C:/Users/abatz/Desktop/BigDataInLaw/week2/gun_deaths_us_1999_2019.xlsx\"\n",
    "df3 = pd.read_excel(xlsx_path)\n",
    "df3.head()"
   ]
  },
  {
   "cell_type": "markdown",
   "metadata": {
    "tags": []
   },
   "source": [
    "### Practice Exercise 3: \n"
   ]
  },
  {
   "cell_type": "markdown",
   "metadata": {},
   "source": [
    "Use a variable **c** to store the column City from **Law enforcement surveillance technologies** dataset as a dataframe "
   ]
  },
  {
   "cell_type": "code",
   "execution_count": null,
   "metadata": {},
   "outputs": [],
   "source": [
    "# Write your code below\n"
   ]
  },
  {
   "cell_type": "markdown",
   "metadata": {},
   "source": [
    "Assign the variable **z** to the dataframe that is consist of the columns **State** and **Deaths** from **Gun Deaths in US from 1999 to 2019** dataset. \n"
   ]
  },
  {
   "cell_type": "code",
   "execution_count": null,
   "metadata": {},
   "outputs": [],
   "source": [
    "# Write your code below\n"
   ]
  },
  {
   "cell_type": "markdown",
   "metadata": {},
   "source": [
    "Access to the data from 1st row and the 3rd column from **Law enforcement surveillance technologies** dataset:\n"
   ]
  },
  {
   "cell_type": "code",
   "execution_count": null,
   "metadata": {},
   "outputs": [],
   "source": [
    "# Write your code below\n"
   ]
  },
  {
   "cell_type": "markdown",
   "metadata": {},
   "source": [
    "### Part 3: Numpy\n",
    "\n",
    "NumPy is a Python library designed for tasks involving arrays, linear algebra, Fourier transforms, and matrices. A NumPy array shares similarities with a list, but it offers significant advantages. NumPy, short for Numerical Python, is an open-source project. The primary array object in NumPy is called **ndarray**, and it comes equipped with an array of functions that simplify working with it.\n",
    "\n",
    "In data science, arrays find extensive use, particularly when efficiency and resource management are critical.\n",
    "\n",
    "Typically, NumPy is imported under the alias np. NumPy arrays have fixed sizes, and all elements within an array are of the same data type. You can convert a regular list into a NumPy array after importing the numpy library."
   ]
  },
  {
   "cell_type": "code",
   "execution_count": 20,
   "metadata": {
    "tags": []
   },
   "outputs": [],
   "source": [
    "# import numpy library\n",
    "\n",
    "import numpy as np "
   ]
  },
  {
   "cell_type": "markdown",
   "metadata": {},
   "source": [
    "We can cast the python list as follows:\n"
   ]
  },
  {
   "cell_type": "code",
   "execution_count": 27,
   "metadata": {
    "tags": []
   },
   "outputs": [
    {
     "data": {
      "text/plain": [
       "array([5, 1, 7, 3, 4])"
      ]
     },
     "execution_count": 27,
     "metadata": {},
     "output_type": "execute_result"
    }
   ],
   "source": [
    "# Create a numpy array\n",
    "\n",
    "a = np.array([5, 1, 7, 3, 4])\n",
    "a"
   ]
  },
  {
   "cell_type": "markdown",
   "metadata": {},
   "source": [
    "Similar to lists, you can access individual elements using square brackets.\n",
    "\n",
    "\n",
    "\n",
    "\n"
   ]
  },
  {
   "cell_type": "code",
   "execution_count": 28,
   "metadata": {
    "tags": []
   },
   "outputs": [
    {
     "data": {
      "text/plain": [
       "5"
      ]
     },
     "execution_count": 28,
     "metadata": {},
     "output_type": "execute_result"
    }
   ],
   "source": [
    "a[0]"
   ]
  },
  {
   "cell_type": "markdown",
   "metadata": {},
   "source": [
    " We can change the first element of the array to 10 as follows:"
   ]
  },
  {
   "cell_type": "code",
   "execution_count": 29,
   "metadata": {
    "tags": []
   },
   "outputs": [
    {
     "data": {
      "text/plain": [
       "array([10,  1,  7,  3,  4])"
      ]
     },
     "execution_count": 29,
     "metadata": {},
     "output_type": "execute_result"
    }
   ],
   "source": [
    "# Assign the first element to 10\n",
    "\n",
    "a[0] = 10\n",
    "a"
   ]
  },
  {
   "cell_type": "markdown",
   "metadata": {},
   "source": [
    "We can make slicing:"
   ]
  },
  {
   "cell_type": "code",
   "execution_count": 31,
   "metadata": {
    "tags": []
   },
   "outputs": [
    {
     "data": {
      "text/plain": [
       "array([1, 7, 3])"
      ]
     },
     "execution_count": 31,
     "metadata": {},
     "output_type": "execute_result"
    }
   ],
   "source": [
    "# Slicing the numpy array\n",
    "b = a[1:4]\n",
    "b"
   ]
  },
  {
   "cell_type": "markdown",
   "metadata": {},
   "source": [
    "**Attributes**"
   ]
  },
  {
   "cell_type": "markdown",
   "metadata": {},
   "source": [
    "The attribute **size** shows the number of elements in the array:\n"
   ]
  },
  {
   "cell_type": "code",
   "execution_count": 32,
   "metadata": {
    "tags": []
   },
   "outputs": [
    {
     "data": {
      "text/plain": [
       "5"
      ]
     },
     "execution_count": 32,
     "metadata": {},
     "output_type": "execute_result"
    }
   ],
   "source": [
    "a.size"
   ]
  },
  {
   "cell_type": "markdown",
   "metadata": {},
   "source": [
    "The attribute **ndim** represents the number of array dimensions, or the rank of the array. In our case it is one."
   ]
  },
  {
   "cell_type": "code",
   "execution_count": 34,
   "metadata": {
    "tags": []
   },
   "outputs": [
    {
     "data": {
      "text/plain": [
       "1"
      ]
     },
     "execution_count": 34,
     "metadata": {},
     "output_type": "execute_result"
    }
   ],
   "source": [
    "a.ndim"
   ]
  },
  {
   "cell_type": "markdown",
   "metadata": {},
   "source": [
    "The attribute **shape** indicates the size of the array in each dimension:"
   ]
  },
  {
   "cell_type": "code",
   "execution_count": 35,
   "metadata": {
    "tags": []
   },
   "outputs": [
    {
     "data": {
      "text/plain": [
       "(5,)"
      ]
     },
     "execution_count": 35,
     "metadata": {},
     "output_type": "execute_result"
    }
   ],
   "source": [
    "a.shape"
   ]
  }
 ],
 "metadata": {
  "kernelspec": {
   "display_name": "Python 3 (ipykernel)",
   "language": "python",
   "name": "python3"
  },
  "language_info": {
   "codemirror_mode": {
    "name": "ipython",
    "version": 3
   },
   "file_extension": ".py",
   "mimetype": "text/x-python",
   "name": "python",
   "nbconvert_exporter": "python",
   "pygments_lexer": "ipython3",
   "version": "3.11.4"
  }
 },
 "nbformat": 4,
 "nbformat_minor": 4
}
