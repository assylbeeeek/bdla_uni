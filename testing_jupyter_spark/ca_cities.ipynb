{
 "cells": [
  {
   "cell_type": "code",
   "execution_count": 66,
   "metadata": {},
   "outputs": [],
   "source": [
    "import findspark\n",
    "findspark.init()"
   ]
  },
  {
   "cell_type": "code",
   "execution_count": 67,
   "metadata": {},
   "outputs": [],
   "source": [
    "import pyspark\n",
    "from pyspark.sql import SparkSession\n",
    "spark = SparkSession.builder.getOrCreate()"
   ]
  },
  {
   "cell_type": "code",
   "execution_count": 68,
   "metadata": {},
   "outputs": [],
   "source": [
    "df_off = spark.read.csv('C:/Users/Досжан/Desktop/California Crime and Law Enforcement/ca_offenses_by_city.csv', inferSchema=True, header=True)\n",
    "df_law = spark.read.csv('C:/Users/Досжан/Desktop/California Crime and Law Enforcement/ca_law_enforcement_by_city.csv', inferSchema=True, header=True)"
   ]
  },
  {
   "cell_type": "code",
   "execution_count": 69,
   "metadata": {},
   "outputs": [
    {
     "name": "stdout",
     "output_type": "stream",
     "text": [
      "+-----------+----------+---------+\n",
      "|       City|Population|Total law|\n",
      "+-----------+----------+---------+\n",
      "|enforcement|      NULL|     NULL|\n",
      "| employees\"|    Total |     NULL|\n",
      "|  officers\"|    Total |     NULL|\n",
      "| civilians\"|      NULL|     NULL|\n",
      "|    Alameda|    78,613|      112|\n",
      "+-----------+----------+---------+\n",
      "only showing top 5 rows\n",
      "\n"
     ]
    }
   ],
   "source": [
    "df_law.show(5)"
   ]
  },
  {
   "cell_type": "code",
   "execution_count": 70,
   "metadata": {},
   "outputs": [
    {
     "name": "stdout",
     "output_type": "stream",
     "text": [
      "+------------+----------+-------------+------------------------------------+-------------------------+------------------------+-------+------------------+--------------+--------+-------------+-------------------+-----+\n",
      "|        City|Population|Violent crime|Murder and nonnegligent manslaughter|Rape (revised definition)|Rape (legacy definition)|Robbery|Aggravated assault|Property crime|Burglary|Larceny-theft|Motor vehicle theft|Arson|\n",
      "+------------+----------+-------------+------------------------------------+-------------------------+------------------------+-------+------------------+--------------+--------+-------------+-------------------+-----+\n",
      "|    Adelanto|    33,005|          212|                                   2|                       14|                    NULL|     48|               148|           808|     434|          254|                120|   24|\n",
      "|Agoura Hills|    20,970|           15|                                   0|                        1|                    NULL|      6|                 8|           310|      82|          217|                 11|    0|\n",
      "|     Alameda|    78,613|          148|                                   2|                        7|                    NULL|     61|                78|         1,819|     228|        1,245|                346|   18|\n",
      "|      Albany|    19,723|           34|                                   1|                        6|                    NULL|     16|                11|           605|      95|          447|                 63|    0|\n",
      "|   Alhambra3|    86,175|          168|                                   1|                       13|                    NULL|     74|                80|         1,929|     305|        1,413|                211|    6|\n",
      "+------------+----------+-------------+------------------------------------+-------------------------+------------------------+-------+------------------+--------------+--------+-------------+-------------------+-----+\n",
      "only showing top 5 rows\n",
      "\n"
     ]
    }
   ],
   "source": [
    "df_off.show(5)"
   ]
  },
  {
   "cell_type": "code",
   "execution_count": 71,
   "metadata": {},
   "outputs": [],
   "source": [
    "import pandas as pd\n",
    "off_pd = pd.read_csv(\"C:/Users/Досжан/Desktop/California Crime and Law Enforcement/ca_offenses_by_city.csv\")\n",
    "law_pd = pd.read_csv(\"C:/Users/Досжан/Desktop/California Crime and Law Enforcement/ca_law_enforcement_by_city.csv\")"
   ]
  },
  {
   "cell_type": "code",
   "execution_count": 72,
   "metadata": {},
   "outputs": [
    {
     "data": {
      "text/html": [
       "<div>\n",
       "<style scoped>\n",
       "    .dataframe tbody tr th:only-of-type {\n",
       "        vertical-align: middle;\n",
       "    }\n",
       "\n",
       "    .dataframe tbody tr th {\n",
       "        vertical-align: top;\n",
       "    }\n",
       "\n",
       "    .dataframe thead th {\n",
       "        text-align: right;\n",
       "    }\n",
       "</style>\n",
       "<table border=\"1\" class=\"dataframe\">\n",
       "  <thead>\n",
       "    <tr style=\"text-align: right;\">\n",
       "      <th></th>\n",
       "      <th>City</th>\n",
       "      <th>Population</th>\n",
       "      <th>Violent crime</th>\n",
       "      <th>Murder and nonnegligent manslaughter</th>\n",
       "      <th>Rape (revised definition)</th>\n",
       "      <th>Rape (legacy definition)</th>\n",
       "      <th>Robbery</th>\n",
       "      <th>Aggravated assault</th>\n",
       "      <th>Property crime</th>\n",
       "      <th>Burglary</th>\n",
       "      <th>Larceny-theft</th>\n",
       "      <th>Motor vehicle theft</th>\n",
       "      <th>Arson</th>\n",
       "    </tr>\n",
       "  </thead>\n",
       "  <tbody>\n",
       "    <tr>\n",
       "      <th>0</th>\n",
       "      <td>Adelanto</td>\n",
       "      <td>33,005</td>\n",
       "      <td>212</td>\n",
       "      <td>2</td>\n",
       "      <td>14</td>\n",
       "      <td>NaN</td>\n",
       "      <td>48</td>\n",
       "      <td>148</td>\n",
       "      <td>808</td>\n",
       "      <td>434</td>\n",
       "      <td>254</td>\n",
       "      <td>120</td>\n",
       "      <td>24</td>\n",
       "    </tr>\n",
       "    <tr>\n",
       "      <th>1</th>\n",
       "      <td>Agoura Hills</td>\n",
       "      <td>20,970</td>\n",
       "      <td>15</td>\n",
       "      <td>0</td>\n",
       "      <td>1</td>\n",
       "      <td>NaN</td>\n",
       "      <td>6</td>\n",
       "      <td>8</td>\n",
       "      <td>310</td>\n",
       "      <td>82</td>\n",
       "      <td>217</td>\n",
       "      <td>11</td>\n",
       "      <td>0</td>\n",
       "    </tr>\n",
       "    <tr>\n",
       "      <th>2</th>\n",
       "      <td>Alameda</td>\n",
       "      <td>78,613</td>\n",
       "      <td>148</td>\n",
       "      <td>2</td>\n",
       "      <td>7</td>\n",
       "      <td>NaN</td>\n",
       "      <td>61</td>\n",
       "      <td>78</td>\n",
       "      <td>1,819</td>\n",
       "      <td>228</td>\n",
       "      <td>1,245</td>\n",
       "      <td>346</td>\n",
       "      <td>18</td>\n",
       "    </tr>\n",
       "    <tr>\n",
       "      <th>3</th>\n",
       "      <td>Albany</td>\n",
       "      <td>19,723</td>\n",
       "      <td>34</td>\n",
       "      <td>1</td>\n",
       "      <td>6</td>\n",
       "      <td>NaN</td>\n",
       "      <td>16</td>\n",
       "      <td>11</td>\n",
       "      <td>605</td>\n",
       "      <td>95</td>\n",
       "      <td>447</td>\n",
       "      <td>63</td>\n",
       "      <td>0</td>\n",
       "    </tr>\n",
       "    <tr>\n",
       "      <th>4</th>\n",
       "      <td>Alhambra3</td>\n",
       "      <td>86,175</td>\n",
       "      <td>168</td>\n",
       "      <td>1</td>\n",
       "      <td>13</td>\n",
       "      <td>NaN</td>\n",
       "      <td>74</td>\n",
       "      <td>80</td>\n",
       "      <td>1,929</td>\n",
       "      <td>305</td>\n",
       "      <td>1,413</td>\n",
       "      <td>211</td>\n",
       "      <td>6</td>\n",
       "    </tr>\n",
       "  </tbody>\n",
       "</table>\n",
       "</div>"
      ],
      "text/plain": [
       "           City Population Violent crime  \\\n",
       "0      Adelanto     33,005           212   \n",
       "1  Agoura Hills     20,970            15   \n",
       "2       Alameda     78,613           148   \n",
       "3        Albany     19,723            34   \n",
       "4     Alhambra3     86,175           168   \n",
       "\n",
       "   Murder and nonnegligent manslaughter Rape (revised definition)  \\\n",
       "0                                     2                        14   \n",
       "1                                     0                         1   \n",
       "2                                     2                         7   \n",
       "3                                     1                         6   \n",
       "4                                     1                        13   \n",
       "\n",
       "   Rape (legacy definition) Robbery Aggravated assault Property crime  \\\n",
       "0                       NaN      48                148            808   \n",
       "1                       NaN       6                  8            310   \n",
       "2                       NaN      61                 78          1,819   \n",
       "3                       NaN      16                 11            605   \n",
       "4                       NaN      74                 80          1,929   \n",
       "\n",
       "  Burglary Larceny-theft Motor vehicle theft Arson  \n",
       "0      434           254                 120    24  \n",
       "1       82           217                  11     0  \n",
       "2      228         1,245                 346    18  \n",
       "3       95           447                  63     0  \n",
       "4      305         1,413                 211     6  "
      ]
     },
     "execution_count": 72,
     "metadata": {},
     "output_type": "execute_result"
    }
   ],
   "source": [
    "off_pd.head()"
   ]
  },
  {
   "cell_type": "code",
   "execution_count": 73,
   "metadata": {},
   "outputs": [
    {
     "data": {
      "text/html": [
       "<div>\n",
       "<style scoped>\n",
       "    .dataframe tbody tr th:only-of-type {\n",
       "        vertical-align: middle;\n",
       "    }\n",
       "\n",
       "    .dataframe tbody tr th {\n",
       "        vertical-align: top;\n",
       "    }\n",
       "\n",
       "    .dataframe thead th {\n",
       "        text-align: right;\n",
       "    }\n",
       "</style>\n",
       "<table border=\"1\" class=\"dataframe\">\n",
       "  <thead>\n",
       "    <tr style=\"text-align: right;\">\n",
       "      <th></th>\n",
       "      <th>City</th>\n",
       "      <th>Population</th>\n",
       "      <th>Total law\\renforcement\\remployees</th>\n",
       "      <th>Total \\rofficers</th>\n",
       "      <th>Total \\rcivilians</th>\n",
       "    </tr>\n",
       "  </thead>\n",
       "  <tbody>\n",
       "    <tr>\n",
       "      <th>0</th>\n",
       "      <td>Alameda</td>\n",
       "      <td>78,613</td>\n",
       "      <td>112</td>\n",
       "      <td>83</td>\n",
       "      <td>29</td>\n",
       "    </tr>\n",
       "    <tr>\n",
       "      <th>1</th>\n",
       "      <td>Albany</td>\n",
       "      <td>19,723</td>\n",
       "      <td>30</td>\n",
       "      <td>23</td>\n",
       "      <td>7</td>\n",
       "    </tr>\n",
       "    <tr>\n",
       "      <th>2</th>\n",
       "      <td>Alhambra</td>\n",
       "      <td>86,175</td>\n",
       "      <td>128</td>\n",
       "      <td>85</td>\n",
       "      <td>43</td>\n",
       "    </tr>\n",
       "    <tr>\n",
       "      <th>3</th>\n",
       "      <td>Alturas</td>\n",
       "      <td>2,566</td>\n",
       "      <td>6</td>\n",
       "      <td>5</td>\n",
       "      <td>1</td>\n",
       "    </tr>\n",
       "    <tr>\n",
       "      <th>4</th>\n",
       "      <td>Anaheim</td>\n",
       "      <td>349,471</td>\n",
       "      <td>577</td>\n",
       "      <td>399</td>\n",
       "      <td>178</td>\n",
       "    </tr>\n",
       "  </tbody>\n",
       "</table>\n",
       "</div>"
      ],
      "text/plain": [
       "       City Population Total law\\renforcement\\remployees Total \\rofficers  \\\n",
       "0   Alameda     78,613                               112               83   \n",
       "1    Albany     19,723                                30               23   \n",
       "2  Alhambra     86,175                               128               85   \n",
       "3   Alturas      2,566                                 6                5   \n",
       "4   Anaheim    349,471                               577              399   \n",
       "\n",
       "  Total \\rcivilians  \n",
       "0                29  \n",
       "1                 7  \n",
       "2                43  \n",
       "3                 1  \n",
       "4               178  "
      ]
     },
     "execution_count": 73,
     "metadata": {},
     "output_type": "execute_result"
    }
   ],
   "source": [
    "law_pd.head()"
   ]
  },
  {
   "cell_type": "code",
   "execution_count": 74,
   "metadata": {},
   "outputs": [
    {
     "data": {
      "text/plain": [
       "0"
      ]
     },
     "execution_count": 74,
     "metadata": {},
     "output_type": "execute_result"
    }
   ],
   "source": [
    "off_pd['Rape (legacy definition)'].notnull().sum()"
   ]
  },
  {
   "cell_type": "code",
   "execution_count": 75,
   "metadata": {},
   "outputs": [],
   "source": [
    "df_off = df_off.drop(\"Index\")\n",
    "df_off = df_off.drop('Rape (legacy definition)')\n",
    "off_pd.drop('Rape (legacy definition)', axis=1, inplace = True)"
   ]
  },
  {
   "cell_type": "code",
   "execution_count": 76,
   "metadata": {},
   "outputs": [
    {
     "data": {
      "text/plain": [
       "460"
      ]
     },
     "execution_count": 76,
     "metadata": {},
     "output_type": "execute_result"
    }
   ],
   "source": [
    "# Группировка данных по городу и суммирование криминальных преступлений\n",
    "df_off.select(['City']).distinct().count()"
   ]
  },
  {
   "cell_type": "code",
   "execution_count": 77,
   "metadata": {},
   "outputs": [
    {
     "name": "stdout",
     "output_type": "stream",
     "text": [
      "+------------+----------+-------------+------------------------------------+-------------------------+-------+------------------+--------------+--------+-------------+-------------------+-----+\n",
      "|        City|Population|Violent crime|Murder and nonnegligent manslaughter|Rape (revised definition)|Robbery|Aggravated assault|Property crime|Burglary|Larceny-theft|Motor vehicle theft|Arson|\n",
      "+------------+----------+-------------+------------------------------------+-------------------------+-------+------------------+--------------+--------+-------------+-------------------+-----+\n",
      "|    Adelanto|    33,005|          212|                                   2|                       14|     48|               148|           808|     434|          254|                120|   24|\n",
      "|Agoura Hills|    20,970|           15|                                   0|                        1|      6|                 8|           310|      82|          217|                 11|    0|\n",
      "|     Alameda|    78,613|          148|                                   2|                        7|     61|                78|         1,819|     228|        1,245|                346|   18|\n",
      "|      Albany|    19,723|           34|                                   1|                        6|     16|                11|           605|      95|          447|                 63|    0|\n",
      "|   Alhambra3|    86,175|          168|                                   1|                       13|     74|                80|         1,929|     305|        1,413|                211|    6|\n",
      "+------------+----------+-------------+------------------------------------+-------------------------+-------+------------------+--------------+--------+-------------+-------------------+-----+\n",
      "only showing top 5 rows\n",
      "\n"
     ]
    }
   ],
   "source": [
    "df_off.show(5)"
   ]
  },
  {
   "cell_type": "code",
   "execution_count": 78,
   "metadata": {},
   "outputs": [
    {
     "name": "stdout",
     "output_type": "stream",
     "text": [
      "root\n",
      " |-- City: string (nullable = true)\n",
      " |-- Population: string (nullable = true)\n",
      " |-- Violent crime: string (nullable = true)\n",
      " |-- Murder and nonnegligent manslaughter: integer (nullable = true)\n",
      " |-- Rape (revised definition): string (nullable = true)\n",
      " |-- Robbery: string (nullable = true)\n",
      " |-- Aggravated assault: string (nullable = true)\n",
      " |-- Property crime: string (nullable = true)\n",
      " |-- Burglary: string (nullable = true)\n",
      " |-- Larceny-theft: string (nullable = true)\n",
      " |-- Motor vehicle theft: string (nullable = true)\n",
      " |-- Arson: string (nullable = true)\n",
      "\n"
     ]
    }
   ],
   "source": [
    "df_off.printSchema()"
   ]
  },
  {
   "cell_type": "code",
   "execution_count": 79,
   "metadata": {},
   "outputs": [],
   "source": [
    "# Perform an inner join on the 'city' column\n",
    "merged_df = df_law.join(df_off, on=['city'], how='inner')\n"
   ]
  },
  {
   "cell_type": "code",
   "execution_count": 80,
   "metadata": {},
   "outputs": [],
   "source": [
    "from pyspark.sql.functions import col"
   ]
  },
  {
   "cell_type": "code",
   "execution_count": 81,
   "metadata": {},
   "outputs": [
    {
     "name": "stdout",
     "output_type": "stream",
     "text": [
      "+-----------+----------+---------+----------+-------------+------------------------------------+-------------------------+-------+------------------+--------------+--------+-------------+-------------------+-----+-------------------+\n",
      "|       City|Population|Total law|Population|Violent crime|Murder and nonnegligent manslaughter|Rape (revised definition)|Robbery|Aggravated assault|Property crime|Burglary|Larceny-theft|Motor vehicle theft|Arson| violent_crime_rate|\n",
      "+-----------+----------+---------+----------+-------------+------------------------------------+-------------------------+-------+------------------+--------------+--------+-------------+-------------------+-----+-------------------+\n",
      "|    Alameda|    78,613|      112|    78,613|          148|                                   2|                        7|     61|                78|         1,819|     228|        1,245|                346|   18| 1.3214285714285714|\n",
      "|     Albany|    19,723|       30|    19,723|           34|                                   1|                        6|     16|                11|           605|      95|          447|                 63|    0| 1.1333333333333333|\n",
      "|   Anderson|    10,277|       24|    10,277|           88|                                   0|                        4|      9|                75|           474|      60|          358|                 56|    2| 3.6666666666666665|\n",
      "|    Antioch|   110,537|      115|   110,537|          771|                                   7|                       53|    280|               431|         3,912|     862|        2,026|              1,024|   36| 6.7043478260869565|\n",
      "|    Arcadia|    58,694|       93|    58,694|           68|                                   1|                        6|     31|                30|         1,272|     316|          892|                 64|    3| 0.7311827956989247|\n",
      "|      Arvin|    20,902|       29|    20,902|          149|                                   3|                        1|     14|               131|           457|     143|          201|                113|   16|  5.137931034482759|\n",
      "|   Atherton|     7,205|       26|     7,205|            3|                                   0|                        1|      2|                 0|            86|      30|           54|                  2|    1|0.11538461538461539|\n",
      "|    Atwater|    29,219|       37|    29,219|          197|                                   3|                        8|     26|               160|         1,099|     167|          757|                175|   10|  5.324324324324325|\n",
      "|     Auburn|    14,118|       26|    14,118|           45|                                   0|                        2|      7|                36|           260|      56|          178|                 26|    0| 1.7307692307692308|\n",
      "|      Azusa|    49,431|       93|    49,431|          173|                                   2|                       13|     49|               109|         1,212|     232|          784|                196|    7| 1.8602150537634408|\n",
      "|Bakersfield|   373,887|      542|   373,887|        1,810|                                  22|                       71|    655|             1,062|        15,559|   3,877|        9,288|              2,394|  339|               NULL|\n",
      "|    Banning|    31,030|       39|    31,030|          197|                                   8|                       29|     29|               131|           608|     248|          221|                139|    0|  5.051282051282051|\n",
      "|    Barstow|    23,700|       54|    23,700|          283|                                   2|                       12|     70|               199|         1,037|     447|          408|                182|   15| 5.2407407407407405|\n",
      "|   Beaumont|    43,626|       56|    43,626|          138|                                   1|                       17|     21|                99|           887|     157|          582|                148|    4| 2.4642857142857144|\n",
      "|       Bell|    36,395|       37|    36,395|          221|                                   1|                       17|     70|               133|           772|     194|          443|                135|    0|  5.972972972972973|\n",
      "|    Belmont|    27,377|       44|    27,377|           26|                                   1|                        3|      5|                17|           447|      65|          341|                 41|    2| 0.5909090909090909|\n",
      "|  Belvedere|     2,144|        8|     2,144|            0|                                   0|                        0|      0|                 0|            29|       3|           25|                  1|    0|                0.0|\n",
      "|    Benicia|    28,159|       44|    28,159|           29|                                   0|                        7|      8|                14|           512|     112|          338|                 62|    8| 0.6590909090909091|\n",
      "|   Berkeley|   120,387|      260|   120,387|          530|                                   1|                       44|    330|               155|         5,906|   1,090|        4,099|                717|   22| 2.0384615384615383|\n",
      "|     Blythe|    18,961|       30|    18,961|           90|                                   1|                        7|     22|                60|           847|     293|          529|                 25|   23|                3.0|\n",
      "+-----------+----------+---------+----------+-------------+------------------------------------+-------------------------+-------+------------------+--------------+--------+-------------+-------------------+-----+-------------------+\n",
      "only showing top 20 rows\n",
      "\n"
     ]
    }
   ],
   "source": [
    "# Calculate the rate of violent crime per law enforcement employee\n",
    "merged_df = merged_df.withColumn(\"violent_crime_rate\", col('Violent crime') / col('Total law'))\n",
    "merged_df.show()"
   ]
  },
  {
   "cell_type": "code",
   "execution_count": 82,
   "metadata": {},
   "outputs": [],
   "source": [
    "from pyspark.sql.types import StructType, StructField, IntegerType, StringType\n",
    "\n",
    "# Define a custom schema for the law_enforcement_df\n",
    "law_enforcement_schema = StructType([\n",
    "    StructField(\"law_enforcement_city\", StringType(), True),\n",
    "    StructField(\"law_enforcement_employees\", IntegerType(), True),\n",
    "    StructField(\"population\", IntegerType(), True)\n",
    "])\n",
    "\n",
    "# Define a custom schema for the offenses_df\n",
    "offenses_schema = StructType([\n",
    "    StructField(\"offenses_city\", StringType(), True),\n",
    "    StructField(\"violent_crime\", IntegerType(), True)\n",
    "])\n",
    "\n",
    "# Load the datasets with custom schemas\n",
    "law_enforcement_df = spark.read.csv(\"ca_law_enforcement_by_city.csv\", header=True, schema=law_enforcement_schema)\n",
    "offenses_df = spark.read.csv(\"ca_offenses_by_city.csv\", header=True, schema=offenses_schema)\n"
   ]
  },
  {
   "cell_type": "code",
   "execution_count": 83,
   "metadata": {},
   "outputs": [],
   "source": [
    "# Perform an inner join on the aliased city columns\n",
    "merged_df = law_enforcement_df.join(offenses_df, (law_enforcement_df[\"law_enforcement_city\"] == offenses_df[\"offenses_city\"]), \"inner\")\n",
    "\n",
    "# Filter the data for cities with a population greater than 100,000\n",
    "filtered_df = merged_df.filter(col(\"population\") > 100000)"
   ]
  },
  {
   "cell_type": "code",
   "execution_count": 84,
   "metadata": {},
   "outputs": [],
   "source": [
    "# Calculate the rate of violent crime per law enforcement employee\n",
    "filtered_df = filtered_df.withColumn(\"violent_crime_rate\", col(\"violent_crime\") / col(\"law_enforcement_employees\"))"
   ]
  },
  {
   "cell_type": "code",
   "execution_count": 85,
   "metadata": {},
   "outputs": [],
   "source": [
    "# Sort the data by the violent crime rate in descending order\n",
    "sorted_df = filtered_df.orderBy(col(\"violent_crime_rate\").desc())"
   ]
  },
  {
   "cell_type": "code",
   "execution_count": 86,
   "metadata": {},
   "outputs": [
    {
     "name": "stdout",
     "output_type": "stream",
     "text": [
      "+--------------------+-------------------------+----------+-------------+-------------+------------------+\n",
      "|law_enforcement_city|law_enforcement_employees|population|offenses_city|violent_crime|violent_crime_rate|\n",
      "+--------------------+-------------------------+----------+-------------+-------------+------------------+\n",
      "+--------------------+-------------------------+----------+-------------+-------------+------------------+\n",
      "\n"
     ]
    }
   ],
   "source": [
    "# Write the results to a CSV file\n",
    "sorted_df.toPandas().to_csv(\"output.csv\", index=False)\n",
    "sorted_df.show()"
   ]
  },
  {
   "cell_type": "code",
   "execution_count": 87,
   "metadata": {},
   "outputs": [
    {
     "name": "stdout",
     "output_type": "stream",
     "text": [
      "+--------------------+-------------------------+----------+-------------+-------------+------------------+\n",
      "|law_enforcement_city|law_enforcement_employees|population|offenses_city|violent_crime|violent_crime_rate|\n",
      "+--------------------+-------------------------+----------+-------------+-------------+------------------+\n",
      "+--------------------+-------------------------+----------+-------------+-------------+------------------+\n",
      "\n"
     ]
    }
   ],
   "source": [
    "result_df = spark.read.csv(\"output.csv\", header=True, inferSchema=True)\n",
    "result_df.show()"
   ]
  },
  {
   "cell_type": "code",
   "execution_count": 88,
   "metadata": {},
   "outputs": [],
   "source": [
    "# df = df.withColumn(\"Population\", df.Population.cast(\"Integer\"))\n",
    "# # df = df.withColumn(\"Violent crime\", df[\"Violent crime\"].cast(\"Integer\"))\n",
    "# # df = df.withColumn(\"Murder and nonnegligent manslaughter\", df[\"Murder and nonnegligent manslaughter\"].cast(\"Integer\"))\n",
    "# # df = df.withColumn(\"Rape (revised definition)\", df[\"Rape (revised definition)\"].cast(\"Integer\"))\n",
    "# # df = df.withColumn(\"Robbery\", df[\"Robbery\"].cast(\"Integer\"))\n",
    "# # df = df.withColumn(\"Aggravated assault\", df[\"Aggravated assault\"].cast(\"Integer\"))\n",
    "# # df = df.withColumn(\"Property\", df[\"Property\"].cast(\"Integer\"))\n",
    "# # df = df.withColumn(\"Burglary\", df[\"Burglary\"].cast(\"Integer\"))\n",
    "# # df = df.withColumn(\"Larceny-theft\", df[\"Larceny-theft\"].cast(\"Integer\"))\n",
    "# # df = df.withColumn(\"Motor vehicle theft\", df[\"Motor vehicle theft\"].cast(\"Integer\"))\n",
    "# # df = df.withColumn(\"Arson\", df[\"Arson\"].cast(\"Integer\"))\n",
    "# # col_lst = df.columns.copy()\n",
    "# # col_lst.remove('City')\n",
    "# # for i in col_lst:\n",
    "# #     df = df.withColumn(f\"{i}\", df[f\"{i}\"].cast(\"Integer\"))\n",
    "\n",
    "# # from pyspark.sql.functions import col, sum\n",
    "\n",
    "# # df.select(sum(col(\"Population\").isNull().cast(\"integer\"))).show()\n",
    "\n",
    "# df.printSchema()\n",
    "# df.show(5)"
   ]
  }
 ],
 "metadata": {
  "kernelspec": {
   "display_name": "Python 3",
   "language": "python",
   "name": "python3"
  },
  "language_info": {
   "codemirror_mode": {
    "name": "ipython",
    "version": 3
   },
   "file_extension": ".py",
   "mimetype": "text/x-python",
   "name": "python",
   "nbconvert_exporter": "python",
   "pygments_lexer": "ipython3",
   "version": "3.9.13"
  }
 },
 "nbformat": 4,
 "nbformat_minor": 2
}
