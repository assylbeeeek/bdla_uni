{
  "cells": [
    {
      "cell_type": "code",
      "execution_count": 2,
      "metadata": {},
      "outputs": [],
      "source": [
        "import findspark\n",
        "findspark.init()"
      ]
    },
    {
      "cell_type": "code",
      "execution_count": 3,
      "metadata": {
        "id": "Sw7gfXTe0JL4"
      },
      "outputs": [],
      "source": [
        "from pyspark.sql import SparkSession"
      ]
    },
    {
      "cell_type": "code",
      "execution_count": 16,
      "metadata": {
        "id": "cJKryloT0JOr"
      },
      "outputs": [],
      "source": [
        "spark = SparkSession.builder.appName(\"\").getOrCreate()"
      ]
    },
    {
      "cell_type": "code",
      "execution_count": 6,
      "metadata": {
        "colab": {
          "base_uri": "https://localhost:8080/"
        },
        "id": "rXiUZMJnTjnJ",
        "outputId": "f04874f1-4209-4ae9-b638-e0a1268d4e4d"
      },
      "outputs": [],
      "source": [
        "offenses_path = 'C:/Users/Досжан/Desktop/ca_offenses_by_campus.csv'\n",
        "law_enforcement_path = 'C:/Users/Досжан/Desktop/ca_law_enforcement_by_campus.csv'\n"
      ]
    },
    {
      "cell_type": "code",
      "execution_count": 7,
      "metadata": {
        "id": "GdD9VdT7U6Ty"
      },
      "outputs": [],
      "source": [
        "offenses_path = 'ca_offenses_by_campus.csv'\n",
        "# Load the dataset into a Spark DataFrame\n",
        "offenses_df = spark.read.csv(offenses_path, header=True, inferSchema=True)"
      ]
    },
    {
      "cell_type": "code",
      "execution_count": 8,
      "metadata": {
        "id": "7CGGvxoo0JTQ"
      },
      "outputs": [],
      "source": [
        "law_enforcement_path = 'ca_law_enforcement_by_campus.csv'\n",
        "# Load the dataset into a Spark DataFrame\n",
        "law_enforcement_df = spark.read.csv(law_enforcement_path, header=True, inferSchema=True)"
      ]
    },
    {
      "cell_type": "code",
      "execution_count": 9,
      "metadata": {
        "colab": {
          "base_uri": "https://localhost:8080/"
        },
        "id": "mi5s4gTi0JW9",
        "outputId": "40ad3f22-a5ab-4c96-94ca-3f2d973a4108"
      },
      "outputs": [
        {
          "name": "stdout",
          "output_type": "stream",
          "text": [
            "Schema for offenses_df:\n",
            "root\n",
            " |-- University/College: string (nullable = true)\n",
            " |-- Campus: string (nullable = true)\n",
            " |-- Student enrollment: string (nullable = true)\n",
            " |-- Violent crime: integer (nullable = true)\n",
            " |-- Murder and nonnegligent manslaughter: integer (nullable = true)\n",
            " |-- Rape (revised definition): integer (nullable = true)\n",
            " |-- Rape (legacy definition): string (nullable = true)\n",
            " |-- Robbery: integer (nullable = true)\n",
            " |-- Aggravated assault: integer (nullable = true)\n",
            " |-- Property crime: integer (nullable = true)\n",
            " |-- Burglary: integer (nullable = true)\n",
            " |-- Larceny-theft: integer (nullable = true)\n",
            " |-- Motor vehicle theft: integer (nullable = true)\n",
            " |-- Arson: integer (nullable = true)\n",
            "\n",
            "\n",
            "Schema for law_enforcement_df:\n",
            "root\n",
            " |-- University/College : string (nullable = true)\n",
            " |-- Campus: string (nullable = true)\n",
            " |-- Student: string (nullable = true)\n",
            "\n"
          ]
        }
      ],
      "source": [
        "print(\"Schema for offenses_df:\")\n",
        "offenses_df.printSchema()\n",
        "\n",
        "print(\"\\nSchema for law_enforcement_df:\")\n",
        "law_enforcement_df.printSchema()"
      ]
    },
    {
      "cell_type": "code",
      "execution_count": 10,
      "metadata": {
        "id": "2gwGpgllXm-T"
      },
      "outputs": [],
      "source": [
        "joined_df = offenses_df.join(law_enforcement_df, offenses_df['campus'] == law_enforcement_df['campus'], 'inner')"
      ]
    },
    {
      "cell_type": "code",
      "execution_count": 11,
      "metadata": {
        "colab": {
          "base_uri": "https://localhost:8080/"
        },
        "id": "268xEdJsXnAu",
        "outputId": "4ea1633a-794a-47a6-f520-00806b6c0cf1"
      },
      "outputs": [
        {
          "name": "stdout",
          "output_type": "stream",
          "text": [
            "Columns in offenses_df: ['University/College', 'Campus', 'Student enrollment', 'Violent crime', 'Murder and nonnegligent manslaughter', 'Rape (revised definition)', 'Rape (legacy definition)', 'Robbery', 'Aggravated assault', 'Property crime', 'Burglary', 'Larceny-theft', 'Motor vehicle theft', 'Arson']\n",
            "Columns in law_enforcement_df: ['University/College ', 'Campus', 'Student']\n"
          ]
        }
      ],
      "source": [
        "print(\"Columns in offenses_df:\", offenses_df.columns)\n",
        "print(\"Columns in law_enforcement_df:\", law_enforcement_df.columns)"
      ]
    },
    {
      "cell_type": "code",
      "execution_count": 17,
      "metadata": {
        "id": "oqsLHwzpXnB7"
      },
      "outputs": [],
      "source": [
        "# Use Spark SQL to find the top 10 campuses\n",
        "joined_df.createOrReplaceTempView(\"campus_data\")\n",
        "top_10_campuses = spark.sql(\"\"\"\n",
        "    SELECT cd.Campus AS campus,\n",
        "           (cd.`Violent crime` / cd.`Student enrollment`) * 100 AS violent_crime_rate_per_100_students\n",
        "    FROM campus_data cd\n",
        "    ORDER BY violent_crime_rate_per_100_students DESC\n",
        "    LIMIT 10\n",
        "\"\"\")\n"
      ]
    },
    {
      "cell_type": "code",
      "execution_count": null,
      "metadata": {
        "colab": {
          "base_uri": "https://localhost:8080/"
        },
        "id": "xDjPrEtwZJUr",
        "outputId": "734c7aa8-9acd-4cf7-e803-c499628209b7"
      },
      "outputs": [
        {
          "name": "stdout",
          "output_type": "stream",
          "text": [
            "+---------------+-----------------------------------+\n",
            "|         campus|violent_crime_rate_per_100_students|\n",
            "+---------------+-----------------------------------+\n",
            "|         Pomona|                               NULL|\n",
            "|    Bakersfield|                               NULL|\n",
            "|Channel Islands|                               NULL|\n",
            "|Dominguez Hills|                               NULL|\n",
            "|       East Bay|                               NULL|\n",
            "|         Fresno|                               NULL|\n",
            "|    Los Angeles|                               NULL|\n",
            "|   Monterey Bay|                               NULL|\n",
            "|     Northridge|                               NULL|\n",
            "|     Sacramento|                               NULL|\n",
            "+---------------+-----------------------------------+\n",
            "\n"
          ]
        }
      ],
      "source": [
        "top_10_campuses.show()"
      ]
    },
    {
      "cell_type": "code",
      "execution_count": 18,
      "metadata": {
        "id": "yWlQMOD1ZJRT"
      },
      "outputs": [],
      "source": [
        "# Write the top 10 results to a CSV file\n",
        "top_10_campuses.write.csv(\"path/to/top_10_campuses.csv\", header=True)\n"
      ]
    },
    {
      "cell_type": "code",
      "execution_count": 19,
      "metadata": {
        "colab": {
          "base_uri": "https://localhost:8080/"
        },
        "id": "BmJSyPjzZJPH",
        "outputId": "1e93a59b-9a94-4802-dc4d-0bd83dc6b235"
      },
      "outputs": [],
      "source": [
        "print(\"Top 10 Campuses by Highest Violent Crime Rate:\")\n",
        "top_10_campuses.show()\n",
        "\n",
        "# Display the joined DataFrame with calculated crime rates\n",
        "print(\"Joined DataFrame with Calculated Crime Rates:\")\n",
        "joined_df.show()\n"
      ]
    }
  ],
  "metadata": {
    "colab": {
      "provenance": []
    },
    "kernelspec": {
      "display_name": "Python 3",
      "name": "python3"
    },
    "language_info": {
      "codemirror_mode": {
        "name": "ipython",
        "version": 3
      },
      "file_extension": ".py",
      "mimetype": "text/x-python",
      "name": "python",
      "nbconvert_exporter": "python",
      "pygments_lexer": "ipython3",
      "version": "3.9.13"
    }
  },
  "nbformat": 4,
  "nbformat_minor": 0
}
